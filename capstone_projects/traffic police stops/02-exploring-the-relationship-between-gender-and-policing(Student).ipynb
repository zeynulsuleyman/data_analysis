{
 "cells": [
  {
   "cell_type": "markdown",
   "metadata": {},
   "source": [
    "___\n",
    "\n",
    "<p style=\"text-align: center;\"><img src=\"https://docs.google.com/uc?id=1lY0Uj5R04yMY3-ZppPWxqCr5pvBLYPnV\" class=\"img-fluid\" alt=\"CLRSWY\"></p>\n",
    "\n",
    "___"
   ]
  },
  {
   "cell_type": "markdown",
   "metadata": {},
   "source": [
    "<h1><p style=\"text-align: center;\">Data Analysis with Python <br>Project - 1</p><h1> - Traffic Police Stops <img src=\"https://docs.google.com/uc?id=17CPCwi3_VvzcS87TOsh4_U8eExOhL6Ki\" class=\"img-fluid\" alt=\"CLRSWY\" width=\"200\" height=\"100\"> "
   ]
  },
  {
   "cell_type": "markdown",
   "metadata": {},
   "source": [
    "Does the ``gender`` of a driver have an impact on police behavior during a traffic stop? **In this chapter**, you will explore that question while practicing filtering, grouping, method chaining, Boolean math, string methods, and more!"
   ]
  },
  {
   "cell_type": "markdown",
   "metadata": {},
   "source": [
    "***"
   ]
  },
  {
   "cell_type": "markdown",
   "metadata": {},
   "source": [
    "## Examining traffic violations"
   ]
  },
  {
   "cell_type": "markdown",
   "metadata": {},
   "source": [
    "Before comparing the violations being committed by each gender, you should examine the ``violations`` committed by all drivers to get a baseline understanding of the data.\n",
    "\n",
    "In this exercise, you'll count the unique values in the ``violation`` column, and then separately express those counts as proportions."
   ]
  },
  {
   "cell_type": "markdown",
   "metadata": {},
   "source": [
    "> Before starting your work in this section **repeat the steps which you did in the previos chapter for preparing the data.** Continue to this chapter based on where you were in the end of the previous chapter."
   ]
  },
  {
   "cell_type": "code",
   "execution_count": 1,
   "metadata": {},
   "outputs": [],
   "source": [
    "import numpy as np\n",
    "import pandas as pd"
   ]
  },
  {
   "cell_type": "code",
   "execution_count": 2,
   "metadata": {},
   "outputs": [
    {
     "name": "stderr",
     "output_type": "stream",
     "text": [
      "C:\\Users\\Toshiba\\anaconda3\\lib\\site-packages\\IPython\\core\\interactiveshell.py:3146: DtypeWarning: Columns (3) have mixed types.Specify dtype option on import or set low_memory=False.\n",
      "  has_raised = await self.run_ast_nodes(code_ast.body, cell_name,\n"
     ]
    }
   ],
   "source": [
    "ri = pd.read_csv(\"use_for_exploring_relation_between_gender.csv\")"
   ]
  },
  {
   "cell_type": "markdown",
   "metadata": {},
   "source": [
    "**INSTRUCTIONS**\n",
    "\n",
    "*   Count the unique values in the ``violation`` column, to see what violations are being committed by all drivers.\n",
    "*   Express the violation counts as proportions of the total."
   ]
  },
  {
   "cell_type": "code",
   "execution_count": 3,
   "metadata": {},
   "outputs": [
    {
     "data": {
      "text/plain": [
       "Index(['stop_datetime', 'id', 'location_raw', 'police_department',\n",
       "       'driver_gender', 'driver_age_raw', 'driver_age', 'driver_race_raw',\n",
       "       'driver_race', 'violation_raw', 'violation', 'search_conducted',\n",
       "       'search_type_raw', 'search_type', 'contraband_found', 'stop_outcome',\n",
       "       'is_arrested', 'stop_duration', 'out_of_state', 'drugs_related_stop',\n",
       "       'district'],\n",
       "      dtype='object')"
      ]
     },
     "execution_count": 3,
     "metadata": {},
     "output_type": "execute_result"
    }
   ],
   "source": [
    "ri.columns"
   ]
  },
  {
   "cell_type": "code",
   "execution_count": 4,
   "metadata": {},
   "outputs": [
    {
     "data": {
      "text/plain": [
       "6"
      ]
     },
     "execution_count": 4,
     "metadata": {},
     "output_type": "execute_result"
    }
   ],
   "source": [
    "ri[\"violation\"].nunique()"
   ]
  },
  {
   "cell_type": "code",
   "execution_count": 5,
   "metadata": {},
   "outputs": [
    {
     "data": {
      "text/plain": [
       "Speeding               268736\n",
       "Moving violation        90228\n",
       "Equipment               61250\n",
       "Other                   24216\n",
       "Registration/plates     19830\n",
       "Seat belt               16324\n",
       "Name: violation, dtype: int64"
      ]
     },
     "execution_count": 5,
     "metadata": {},
     "output_type": "execute_result"
    }
   ],
   "source": [
    "unique_vol = ri[\"violation\"].value_counts()\n",
    "unique_vol"
   ]
  },
  {
   "cell_type": "code",
   "execution_count": 6,
   "metadata": {},
   "outputs": [
    {
     "data": {
      "text/plain": [
       "480584"
      ]
     },
     "execution_count": 6,
     "metadata": {},
     "output_type": "execute_result"
    }
   ],
   "source": [
    "unique_amount = ri[\"violation\"].notnull().sum()\n",
    "unique_amount"
   ]
  },
  {
   "cell_type": "code",
   "execution_count": 7,
   "metadata": {},
   "outputs": [
    {
     "name": "stdout",
     "output_type": "stream",
     "text": [
      "55.91863233066435\n",
      "18.774657500041616\n",
      "12.74491035906314\n",
      "5.038869375593028\n",
      "4.126229753799544\n",
      "3.3967006808383133\n"
     ]
    }
   ],
   "source": [
    "#1\n",
    "\n",
    "for i in unique_vol:\n",
    "    print(i / unique_amount * 100)"
   ]
  },
  {
   "cell_type": "code",
   "execution_count": 8,
   "metadata": {},
   "outputs": [
    {
     "data": {
      "text/plain": [
       "Speeding               0.559186\n",
       "Moving violation       0.187747\n",
       "Equipment              0.127449\n",
       "Other                  0.050389\n",
       "Registration/plates    0.041262\n",
       "Seat belt              0.033967\n",
       "Name: violation, dtype: float64"
      ]
     },
     "execution_count": 8,
     "metadata": {},
     "output_type": "execute_result"
    }
   ],
   "source": [
    "ri[\"violation\"].value_counts(normalize=True)  # \"normaliaze\": If True then the object returned will contain the relative frequencies of the unique values."
   ]
  },
  {
   "cell_type": "code",
   "execution_count": 9,
   "metadata": {},
   "outputs": [
    {
     "data": {
      "text/plain": [
       "Speeding               55.918632\n",
       "Moving violation       18.774658\n",
       "Equipment              12.744910\n",
       "Other                   5.038869\n",
       "Registration/plates     4.126230\n",
       "Seat belt               3.396701\n",
       "Name: violation, dtype: float64"
      ]
     },
     "execution_count": 9,
     "metadata": {},
     "output_type": "execute_result"
    }
   ],
   "source": [
    "ri[\"violation\"].value_counts(normalize=True) * 100"
   ]
  },
  {
   "cell_type": "markdown",
   "metadata": {},
   "source": [
    "***"
   ]
  },
  {
   "cell_type": "markdown",
   "metadata": {},
   "source": [
    "## Comparing violations by gender"
   ]
  },
  {
   "cell_type": "markdown",
   "metadata": {},
   "source": [
    "The question we're trying to answer is whether male and female drivers tend to commit different types of traffic violations.\n",
    "\n",
    "You'll first create a ``DataFrame`` for each gender, and then analyze the ``violations`` in each ``DataFrame`` separately."
   ]
  },
  {
   "cell_type": "markdown",
   "metadata": {},
   "source": [
    "**INSTRUCTIONS**\n",
    "\n",
    "*   Create a ``DataFrame``, female, that only contains rows in which ``driver_gender`` is ``'F'``.\n",
    "*   Create a ``DataFrame``, male, that only contains rows in which ``driver_gender`` is ``'M'``.\n",
    "*   Count the ``violations`` committed by female drivers and express them as proportions.\n",
    "*   Count the violations committed by male drivers and express them as proportions."
   ]
  },
  {
   "cell_type": "code",
   "execution_count": 10,
   "metadata": {},
   "outputs": [
    {
     "data": {
      "text/html": [
       "<div>\n",
       "<style scoped>\n",
       "    .dataframe tbody tr th:only-of-type {\n",
       "        vertical-align: middle;\n",
       "    }\n",
       "\n",
       "    .dataframe tbody tr th {\n",
       "        vertical-align: top;\n",
       "    }\n",
       "\n",
       "    .dataframe thead th {\n",
       "        text-align: right;\n",
       "    }\n",
       "</style>\n",
       "<table border=\"1\" class=\"dataframe\">\n",
       "  <thead>\n",
       "    <tr style=\"text-align: right;\">\n",
       "      <th></th>\n",
       "      <th>stop_datetime</th>\n",
       "      <th>id</th>\n",
       "      <th>location_raw</th>\n",
       "      <th>police_department</th>\n",
       "      <th>driver_gender</th>\n",
       "      <th>driver_age_raw</th>\n",
       "      <th>driver_age</th>\n",
       "      <th>driver_race_raw</th>\n",
       "      <th>driver_race</th>\n",
       "      <th>violation_raw</th>\n",
       "      <th>...</th>\n",
       "      <th>search_conducted</th>\n",
       "      <th>search_type_raw</th>\n",
       "      <th>search_type</th>\n",
       "      <th>contraband_found</th>\n",
       "      <th>stop_outcome</th>\n",
       "      <th>is_arrested</th>\n",
       "      <th>stop_duration</th>\n",
       "      <th>out_of_state</th>\n",
       "      <th>drugs_related_stop</th>\n",
       "      <th>district</th>\n",
       "    </tr>\n",
       "  </thead>\n",
       "  <tbody>\n",
       "    <tr>\n",
       "      <th>14</th>\n",
       "      <td>2005-02-24 01:20:00</td>\n",
       "      <td>RI-2005-00016</td>\n",
       "      <td>Zone X3</td>\n",
       "      <td>200</td>\n",
       "      <td>F</td>\n",
       "      <td>1983.0</td>\n",
       "      <td>22.0</td>\n",
       "      <td>W</td>\n",
       "      <td>White</td>\n",
       "      <td>Speeding</td>\n",
       "      <td>...</td>\n",
       "      <td>False</td>\n",
       "      <td>NaN</td>\n",
       "      <td>NaN</td>\n",
       "      <td>False</td>\n",
       "      <td>Citation</td>\n",
       "      <td>False</td>\n",
       "      <td>0-15 Min</td>\n",
       "      <td>True</td>\n",
       "      <td>False</td>\n",
       "      <td>Zone X3</td>\n",
       "    </tr>\n",
       "    <tr>\n",
       "      <th>16</th>\n",
       "      <td>2005-03-14 10:00:00</td>\n",
       "      <td>RI-2005-00019</td>\n",
       "      <td>Zone K3</td>\n",
       "      <td>300</td>\n",
       "      <td>F</td>\n",
       "      <td>1984.0</td>\n",
       "      <td>21.0</td>\n",
       "      <td>W</td>\n",
       "      <td>White</td>\n",
       "      <td>Speeding</td>\n",
       "      <td>...</td>\n",
       "      <td>False</td>\n",
       "      <td>NaN</td>\n",
       "      <td>NaN</td>\n",
       "      <td>False</td>\n",
       "      <td>Citation</td>\n",
       "      <td>False</td>\n",
       "      <td>0-15 Min</td>\n",
       "      <td>False</td>\n",
       "      <td>False</td>\n",
       "      <td>Zone K3</td>\n",
       "    </tr>\n",
       "    <tr>\n",
       "      <th>23</th>\n",
       "      <td>2005-03-29 23:20:00</td>\n",
       "      <td>RI-2005-00026</td>\n",
       "      <td>Zone K3</td>\n",
       "      <td>300</td>\n",
       "      <td>F</td>\n",
       "      <td>1971.0</td>\n",
       "      <td>34.0</td>\n",
       "      <td>W</td>\n",
       "      <td>White</td>\n",
       "      <td>Speeding</td>\n",
       "      <td>...</td>\n",
       "      <td>False</td>\n",
       "      <td>NaN</td>\n",
       "      <td>NaN</td>\n",
       "      <td>False</td>\n",
       "      <td>Citation</td>\n",
       "      <td>False</td>\n",
       "      <td>0-15 Min</td>\n",
       "      <td>True</td>\n",
       "      <td>False</td>\n",
       "      <td>Zone K3</td>\n",
       "    </tr>\n",
       "    <tr>\n",
       "      <th>32</th>\n",
       "      <td>2005-06-06 13:20:00</td>\n",
       "      <td>RI-2005-00035</td>\n",
       "      <td>Zone X4</td>\n",
       "      <td>500</td>\n",
       "      <td>F</td>\n",
       "      <td>1986.0</td>\n",
       "      <td>19.0</td>\n",
       "      <td>W</td>\n",
       "      <td>White</td>\n",
       "      <td>Speeding</td>\n",
       "      <td>...</td>\n",
       "      <td>False</td>\n",
       "      <td>NaN</td>\n",
       "      <td>NaN</td>\n",
       "      <td>False</td>\n",
       "      <td>Citation</td>\n",
       "      <td>False</td>\n",
       "      <td>0-15 Min</td>\n",
       "      <td>False</td>\n",
       "      <td>False</td>\n",
       "      <td>Zone X4</td>\n",
       "    </tr>\n",
       "    <tr>\n",
       "      <th>33</th>\n",
       "      <td>2005-06-18 16:30:00</td>\n",
       "      <td>RI-2005-00037</td>\n",
       "      <td>Zone X4</td>\n",
       "      <td>500</td>\n",
       "      <td>F</td>\n",
       "      <td>1964.0</td>\n",
       "      <td>41.0</td>\n",
       "      <td>W</td>\n",
       "      <td>White</td>\n",
       "      <td>Other Traffic Violation</td>\n",
       "      <td>...</td>\n",
       "      <td>False</td>\n",
       "      <td>NaN</td>\n",
       "      <td>NaN</td>\n",
       "      <td>False</td>\n",
       "      <td>Arrest Driver</td>\n",
       "      <td>True</td>\n",
       "      <td>30+ Min</td>\n",
       "      <td>False</td>\n",
       "      <td>False</td>\n",
       "      <td>Zone X4</td>\n",
       "    </tr>\n",
       "  </tbody>\n",
       "</table>\n",
       "<p>5 rows × 21 columns</p>\n",
       "</div>"
      ],
      "text/plain": [
       "          stop_datetime             id location_raw police_department  \\\n",
       "14  2005-02-24 01:20:00  RI-2005-00016      Zone X3               200   \n",
       "16  2005-03-14 10:00:00  RI-2005-00019      Zone K3               300   \n",
       "23  2005-03-29 23:20:00  RI-2005-00026      Zone K3               300   \n",
       "32  2005-06-06 13:20:00  RI-2005-00035      Zone X4               500   \n",
       "33  2005-06-18 16:30:00  RI-2005-00037      Zone X4               500   \n",
       "\n",
       "   driver_gender  driver_age_raw  driver_age driver_race_raw driver_race  \\\n",
       "14             F          1983.0        22.0               W       White   \n",
       "16             F          1984.0        21.0               W       White   \n",
       "23             F          1971.0        34.0               W       White   \n",
       "32             F          1986.0        19.0               W       White   \n",
       "33             F          1964.0        41.0               W       White   \n",
       "\n",
       "              violation_raw  ... search_conducted  search_type_raw  \\\n",
       "14                 Speeding  ...            False              NaN   \n",
       "16                 Speeding  ...            False              NaN   \n",
       "23                 Speeding  ...            False              NaN   \n",
       "32                 Speeding  ...            False              NaN   \n",
       "33  Other Traffic Violation  ...            False              NaN   \n",
       "\n",
       "   search_type contraband_found   stop_outcome is_arrested  stop_duration  \\\n",
       "14         NaN            False       Citation       False       0-15 Min   \n",
       "16         NaN            False       Citation       False       0-15 Min   \n",
       "23         NaN            False       Citation       False       0-15 Min   \n",
       "32         NaN            False       Citation       False       0-15 Min   \n",
       "33         NaN            False  Arrest Driver        True        30+ Min   \n",
       "\n",
       "   out_of_state drugs_related_stop  district  \n",
       "14         True              False   Zone X3  \n",
       "16        False              False   Zone K3  \n",
       "23         True              False   Zone K3  \n",
       "32        False              False   Zone X4  \n",
       "33        False              False   Zone X4  \n",
       "\n",
       "[5 rows x 21 columns]"
      ]
     },
     "execution_count": 10,
     "metadata": {},
     "output_type": "execute_result"
    }
   ],
   "source": [
    "female = ri[ri[\"driver_gender\"] == \"F\"]\n",
    "female.head()"
   ]
  },
  {
   "cell_type": "code",
   "execution_count": 11,
   "metadata": {},
   "outputs": [
    {
     "data": {
      "text/html": [
       "<div>\n",
       "<style scoped>\n",
       "    .dataframe tbody tr th:only-of-type {\n",
       "        vertical-align: middle;\n",
       "    }\n",
       "\n",
       "    .dataframe tbody tr th {\n",
       "        vertical-align: top;\n",
       "    }\n",
       "\n",
       "    .dataframe thead th {\n",
       "        text-align: right;\n",
       "    }\n",
       "</style>\n",
       "<table border=\"1\" class=\"dataframe\">\n",
       "  <thead>\n",
       "    <tr style=\"text-align: right;\">\n",
       "      <th></th>\n",
       "      <th>stop_datetime</th>\n",
       "      <th>id</th>\n",
       "      <th>location_raw</th>\n",
       "      <th>police_department</th>\n",
       "      <th>driver_gender</th>\n",
       "      <th>driver_age_raw</th>\n",
       "      <th>driver_age</th>\n",
       "      <th>driver_race_raw</th>\n",
       "      <th>driver_race</th>\n",
       "      <th>violation_raw</th>\n",
       "      <th>...</th>\n",
       "      <th>search_conducted</th>\n",
       "      <th>search_type_raw</th>\n",
       "      <th>search_type</th>\n",
       "      <th>contraband_found</th>\n",
       "      <th>stop_outcome</th>\n",
       "      <th>is_arrested</th>\n",
       "      <th>stop_duration</th>\n",
       "      <th>out_of_state</th>\n",
       "      <th>drugs_related_stop</th>\n",
       "      <th>district</th>\n",
       "    </tr>\n",
       "  </thead>\n",
       "  <tbody>\n",
       "    <tr>\n",
       "      <th>0</th>\n",
       "      <td>2005-01-02 01:55:00</td>\n",
       "      <td>RI-2005-00001</td>\n",
       "      <td>Zone K1</td>\n",
       "      <td>600</td>\n",
       "      <td>M</td>\n",
       "      <td>1985.0</td>\n",
       "      <td>20.0</td>\n",
       "      <td>W</td>\n",
       "      <td>White</td>\n",
       "      <td>Speeding</td>\n",
       "      <td>...</td>\n",
       "      <td>False</td>\n",
       "      <td>NaN</td>\n",
       "      <td>NaN</td>\n",
       "      <td>False</td>\n",
       "      <td>Citation</td>\n",
       "      <td>False</td>\n",
       "      <td>0-15 Min</td>\n",
       "      <td>False</td>\n",
       "      <td>False</td>\n",
       "      <td>Zone K1</td>\n",
       "    </tr>\n",
       "    <tr>\n",
       "      <th>1</th>\n",
       "      <td>2005-01-02 20:30:00</td>\n",
       "      <td>RI-2005-00002</td>\n",
       "      <td>Zone X4</td>\n",
       "      <td>500</td>\n",
       "      <td>M</td>\n",
       "      <td>1987.0</td>\n",
       "      <td>18.0</td>\n",
       "      <td>W</td>\n",
       "      <td>White</td>\n",
       "      <td>Speeding</td>\n",
       "      <td>...</td>\n",
       "      <td>False</td>\n",
       "      <td>NaN</td>\n",
       "      <td>NaN</td>\n",
       "      <td>False</td>\n",
       "      <td>Citation</td>\n",
       "      <td>False</td>\n",
       "      <td>16-30 Min</td>\n",
       "      <td>False</td>\n",
       "      <td>False</td>\n",
       "      <td>Zone X4</td>\n",
       "    </tr>\n",
       "    <tr>\n",
       "      <th>2</th>\n",
       "      <td>2005-01-04 12:55:00</td>\n",
       "      <td>RI-2005-00004</td>\n",
       "      <td>Zone X4</td>\n",
       "      <td>500</td>\n",
       "      <td>M</td>\n",
       "      <td>1986.0</td>\n",
       "      <td>19.0</td>\n",
       "      <td>W</td>\n",
       "      <td>White</td>\n",
       "      <td>Equipment/Inspection Violation</td>\n",
       "      <td>...</td>\n",
       "      <td>False</td>\n",
       "      <td>NaN</td>\n",
       "      <td>NaN</td>\n",
       "      <td>False</td>\n",
       "      <td>Citation</td>\n",
       "      <td>False</td>\n",
       "      <td>0-15 Min</td>\n",
       "      <td>False</td>\n",
       "      <td>False</td>\n",
       "      <td>Zone X4</td>\n",
       "    </tr>\n",
       "    <tr>\n",
       "      <th>3</th>\n",
       "      <td>2005-01-06 01:30:00</td>\n",
       "      <td>RI-2005-00005</td>\n",
       "      <td>Zone X4</td>\n",
       "      <td>500</td>\n",
       "      <td>M</td>\n",
       "      <td>1978.0</td>\n",
       "      <td>27.0</td>\n",
       "      <td>B</td>\n",
       "      <td>Black</td>\n",
       "      <td>Equipment/Inspection Violation</td>\n",
       "      <td>...</td>\n",
       "      <td>False</td>\n",
       "      <td>NaN</td>\n",
       "      <td>NaN</td>\n",
       "      <td>False</td>\n",
       "      <td>Citation</td>\n",
       "      <td>False</td>\n",
       "      <td>0-15 Min</td>\n",
       "      <td>False</td>\n",
       "      <td>False</td>\n",
       "      <td>Zone X4</td>\n",
       "    </tr>\n",
       "    <tr>\n",
       "      <th>4</th>\n",
       "      <td>2005-01-12 08:05:00</td>\n",
       "      <td>RI-2005-00006</td>\n",
       "      <td>Zone X1</td>\n",
       "      <td>0</td>\n",
       "      <td>M</td>\n",
       "      <td>1973.0</td>\n",
       "      <td>32.0</td>\n",
       "      <td>B</td>\n",
       "      <td>Black</td>\n",
       "      <td>Call for Service</td>\n",
       "      <td>...</td>\n",
       "      <td>False</td>\n",
       "      <td>NaN</td>\n",
       "      <td>NaN</td>\n",
       "      <td>False</td>\n",
       "      <td>Citation</td>\n",
       "      <td>False</td>\n",
       "      <td>30+ Min</td>\n",
       "      <td>True</td>\n",
       "      <td>False</td>\n",
       "      <td>Zone X1</td>\n",
       "    </tr>\n",
       "  </tbody>\n",
       "</table>\n",
       "<p>5 rows × 21 columns</p>\n",
       "</div>"
      ],
      "text/plain": [
       "         stop_datetime             id location_raw police_department  \\\n",
       "0  2005-01-02 01:55:00  RI-2005-00001      Zone K1               600   \n",
       "1  2005-01-02 20:30:00  RI-2005-00002      Zone X4               500   \n",
       "2  2005-01-04 12:55:00  RI-2005-00004      Zone X4               500   \n",
       "3  2005-01-06 01:30:00  RI-2005-00005      Zone X4               500   \n",
       "4  2005-01-12 08:05:00  RI-2005-00006      Zone X1                 0   \n",
       "\n",
       "  driver_gender  driver_age_raw  driver_age driver_race_raw driver_race  \\\n",
       "0             M          1985.0        20.0               W       White   \n",
       "1             M          1987.0        18.0               W       White   \n",
       "2             M          1986.0        19.0               W       White   \n",
       "3             M          1978.0        27.0               B       Black   \n",
       "4             M          1973.0        32.0               B       Black   \n",
       "\n",
       "                    violation_raw  ... search_conducted  search_type_raw  \\\n",
       "0                        Speeding  ...            False              NaN   \n",
       "1                        Speeding  ...            False              NaN   \n",
       "2  Equipment/Inspection Violation  ...            False              NaN   \n",
       "3  Equipment/Inspection Violation  ...            False              NaN   \n",
       "4                Call for Service  ...            False              NaN   \n",
       "\n",
       "  search_type contraband_found  stop_outcome is_arrested  stop_duration  \\\n",
       "0         NaN            False      Citation       False       0-15 Min   \n",
       "1         NaN            False      Citation       False      16-30 Min   \n",
       "2         NaN            False      Citation       False       0-15 Min   \n",
       "3         NaN            False      Citation       False       0-15 Min   \n",
       "4         NaN            False      Citation       False        30+ Min   \n",
       "\n",
       "  out_of_state drugs_related_stop  district  \n",
       "0        False              False   Zone K1  \n",
       "1        False              False   Zone X4  \n",
       "2        False              False   Zone X4  \n",
       "3        False              False   Zone X4  \n",
       "4         True              False   Zone X1  \n",
       "\n",
       "[5 rows x 21 columns]"
      ]
     },
     "execution_count": 11,
     "metadata": {},
     "output_type": "execute_result"
    }
   ],
   "source": [
    "male = ri[ri[\"driver_gender\"] == \"M\"]\n",
    "male.head()"
   ]
  },
  {
   "cell_type": "code",
   "execution_count": 13,
   "metadata": {},
   "outputs": [
    {
     "data": {
      "text/plain": [
       "Speeding               65.730757\n",
       "Moving violation       13.658131\n",
       "Equipment              10.705516\n",
       "Registration/plates     4.307676\n",
       "Other                   2.890848\n",
       "Seat belt               2.707072\n",
       "Name: violation, dtype: float64"
      ]
     },
     "execution_count": 13,
     "metadata": {},
     "output_type": "execute_result"
    }
   ],
   "source": [
    "female[\"violation\"].value_counts(normalize=True) * 100"
   ]
  },
  {
   "cell_type": "code",
   "execution_count": 14,
   "metadata": {},
   "outputs": [
    {
     "data": {
      "text/plain": [
       "Speeding               52.236397\n",
       "Moving violation       20.694757\n",
       "Equipment              13.510242\n",
       "Other                   5.844966\n",
       "Registration/plates     4.058138\n",
       "Seat belt               3.655500\n",
       "Name: violation, dtype: float64"
      ]
     },
     "execution_count": 14,
     "metadata": {},
     "output_type": "execute_result"
    }
   ],
   "source": [
    "male[\"violation\"].value_counts(normalize=True) * 100"
   ]
  },
  {
   "cell_type": "markdown",
   "metadata": {},
   "source": [
    "***"
   ]
  },
  {
   "cell_type": "markdown",
   "metadata": {},
   "source": [
    "## Comparing speeding outcomes by gender"
   ]
  },
  {
   "cell_type": "markdown",
   "metadata": {},
   "source": [
    "When a driver is pulled over for speeding, many people believe that gender has an impact on whether the driver will receive a ticket or a warning. Can you find evidence of this in the dataset?\n",
    "\n",
    "First, you'll create two ``DataFrames`` of drivers who were stopped for ``speeding``: one containing ***females*** and the other containing ***males***.\n",
    "\n",
    "Then, for each **gender**, you'll use the ``stop_outcome`` column to calculate what percentage of stops resulted in a ``\"Citation\"`` (meaning a ticket) versus a ``\"Warning\"``."
   ]
  },
  {
   "cell_type": "markdown",
   "metadata": {},
   "source": [
    "**INSTRUCTIONS**\n",
    "\n",
    "*   Create a ``DataFrame``, ``female_and_speeding``, that only includes female drivers who were stopped for speeding.\n",
    "*   Create a ``DataFrame``, ``male_and_speeding``, that only includes male drivers who were stopped for speeding.\n",
    "*   Count the **stop outcomes** for the female drivers and express them as proportions.\n",
    "*   Count the **stop outcomes** for the male drivers and express them as proportions."
   ]
  },
  {
   "cell_type": "code",
   "execution_count": 15,
   "metadata": {},
   "outputs": [
    {
     "data": {
      "text/html": [
       "<div>\n",
       "<style scoped>\n",
       "    .dataframe tbody tr th:only-of-type {\n",
       "        vertical-align: middle;\n",
       "    }\n",
       "\n",
       "    .dataframe tbody tr th {\n",
       "        vertical-align: top;\n",
       "    }\n",
       "\n",
       "    .dataframe thead th {\n",
       "        text-align: right;\n",
       "    }\n",
       "</style>\n",
       "<table border=\"1\" class=\"dataframe\">\n",
       "  <thead>\n",
       "    <tr style=\"text-align: right;\">\n",
       "      <th></th>\n",
       "      <th>stop_datetime</th>\n",
       "      <th>id</th>\n",
       "      <th>location_raw</th>\n",
       "      <th>police_department</th>\n",
       "      <th>driver_gender</th>\n",
       "      <th>driver_age_raw</th>\n",
       "      <th>driver_age</th>\n",
       "      <th>driver_race_raw</th>\n",
       "      <th>driver_race</th>\n",
       "      <th>violation_raw</th>\n",
       "      <th>...</th>\n",
       "      <th>search_conducted</th>\n",
       "      <th>search_type_raw</th>\n",
       "      <th>search_type</th>\n",
       "      <th>contraband_found</th>\n",
       "      <th>stop_outcome</th>\n",
       "      <th>is_arrested</th>\n",
       "      <th>stop_duration</th>\n",
       "      <th>out_of_state</th>\n",
       "      <th>drugs_related_stop</th>\n",
       "      <th>district</th>\n",
       "    </tr>\n",
       "  </thead>\n",
       "  <tbody>\n",
       "    <tr>\n",
       "      <th>14</th>\n",
       "      <td>2005-02-24 01:20:00</td>\n",
       "      <td>RI-2005-00016</td>\n",
       "      <td>Zone X3</td>\n",
       "      <td>200</td>\n",
       "      <td>F</td>\n",
       "      <td>1983.0</td>\n",
       "      <td>22.0</td>\n",
       "      <td>W</td>\n",
       "      <td>White</td>\n",
       "      <td>Speeding</td>\n",
       "      <td>...</td>\n",
       "      <td>False</td>\n",
       "      <td>NaN</td>\n",
       "      <td>NaN</td>\n",
       "      <td>False</td>\n",
       "      <td>Citation</td>\n",
       "      <td>False</td>\n",
       "      <td>0-15 Min</td>\n",
       "      <td>True</td>\n",
       "      <td>False</td>\n",
       "      <td>Zone X3</td>\n",
       "    </tr>\n",
       "    <tr>\n",
       "      <th>16</th>\n",
       "      <td>2005-03-14 10:00:00</td>\n",
       "      <td>RI-2005-00019</td>\n",
       "      <td>Zone K3</td>\n",
       "      <td>300</td>\n",
       "      <td>F</td>\n",
       "      <td>1984.0</td>\n",
       "      <td>21.0</td>\n",
       "      <td>W</td>\n",
       "      <td>White</td>\n",
       "      <td>Speeding</td>\n",
       "      <td>...</td>\n",
       "      <td>False</td>\n",
       "      <td>NaN</td>\n",
       "      <td>NaN</td>\n",
       "      <td>False</td>\n",
       "      <td>Citation</td>\n",
       "      <td>False</td>\n",
       "      <td>0-15 Min</td>\n",
       "      <td>False</td>\n",
       "      <td>False</td>\n",
       "      <td>Zone K3</td>\n",
       "    </tr>\n",
       "  </tbody>\n",
       "</table>\n",
       "<p>2 rows × 21 columns</p>\n",
       "</div>"
      ],
      "text/plain": [
       "          stop_datetime             id location_raw police_department  \\\n",
       "14  2005-02-24 01:20:00  RI-2005-00016      Zone X3               200   \n",
       "16  2005-03-14 10:00:00  RI-2005-00019      Zone K3               300   \n",
       "\n",
       "   driver_gender  driver_age_raw  driver_age driver_race_raw driver_race  \\\n",
       "14             F          1983.0        22.0               W       White   \n",
       "16             F          1984.0        21.0               W       White   \n",
       "\n",
       "   violation_raw  ... search_conducted  search_type_raw search_type  \\\n",
       "14      Speeding  ...            False              NaN         NaN   \n",
       "16      Speeding  ...            False              NaN         NaN   \n",
       "\n",
       "   contraband_found  stop_outcome is_arrested  stop_duration out_of_state  \\\n",
       "14            False      Citation       False       0-15 Min         True   \n",
       "16            False      Citation       False       0-15 Min        False   \n",
       "\n",
       "   drugs_related_stop  district  \n",
       "14              False   Zone X3  \n",
       "16              False   Zone K3  \n",
       "\n",
       "[2 rows x 21 columns]"
      ]
     },
     "execution_count": 15,
     "metadata": {},
     "output_type": "execute_result"
    }
   ],
   "source": [
    "female_and_speeding = ri[(ri[\"driver_gender\"] == \"F\") & (ri[\"violation\"] == \"Speeding\")]\n",
    "female_and_speeding.head(2)"
   ]
  },
  {
   "cell_type": "code",
   "execution_count": 16,
   "metadata": {},
   "outputs": [
    {
     "data": {
      "text/html": [
       "<div>\n",
       "<style scoped>\n",
       "    .dataframe tbody tr th:only-of-type {\n",
       "        vertical-align: middle;\n",
       "    }\n",
       "\n",
       "    .dataframe tbody tr th {\n",
       "        vertical-align: top;\n",
       "    }\n",
       "\n",
       "    .dataframe thead th {\n",
       "        text-align: right;\n",
       "    }\n",
       "</style>\n",
       "<table border=\"1\" class=\"dataframe\">\n",
       "  <thead>\n",
       "    <tr style=\"text-align: right;\">\n",
       "      <th></th>\n",
       "      <th>stop_datetime</th>\n",
       "      <th>id</th>\n",
       "      <th>location_raw</th>\n",
       "      <th>police_department</th>\n",
       "      <th>driver_gender</th>\n",
       "      <th>driver_age_raw</th>\n",
       "      <th>driver_age</th>\n",
       "      <th>driver_race_raw</th>\n",
       "      <th>driver_race</th>\n",
       "      <th>violation_raw</th>\n",
       "      <th>...</th>\n",
       "      <th>search_conducted</th>\n",
       "      <th>search_type_raw</th>\n",
       "      <th>search_type</th>\n",
       "      <th>contraband_found</th>\n",
       "      <th>stop_outcome</th>\n",
       "      <th>is_arrested</th>\n",
       "      <th>stop_duration</th>\n",
       "      <th>out_of_state</th>\n",
       "      <th>drugs_related_stop</th>\n",
       "      <th>district</th>\n",
       "    </tr>\n",
       "  </thead>\n",
       "  <tbody>\n",
       "    <tr>\n",
       "      <th>0</th>\n",
       "      <td>2005-01-02 01:55:00</td>\n",
       "      <td>RI-2005-00001</td>\n",
       "      <td>Zone K1</td>\n",
       "      <td>600</td>\n",
       "      <td>M</td>\n",
       "      <td>1985.0</td>\n",
       "      <td>20.0</td>\n",
       "      <td>W</td>\n",
       "      <td>White</td>\n",
       "      <td>Speeding</td>\n",
       "      <td>...</td>\n",
       "      <td>False</td>\n",
       "      <td>NaN</td>\n",
       "      <td>NaN</td>\n",
       "      <td>False</td>\n",
       "      <td>Citation</td>\n",
       "      <td>False</td>\n",
       "      <td>0-15 Min</td>\n",
       "      <td>False</td>\n",
       "      <td>False</td>\n",
       "      <td>Zone K1</td>\n",
       "    </tr>\n",
       "    <tr>\n",
       "      <th>1</th>\n",
       "      <td>2005-01-02 20:30:00</td>\n",
       "      <td>RI-2005-00002</td>\n",
       "      <td>Zone X4</td>\n",
       "      <td>500</td>\n",
       "      <td>M</td>\n",
       "      <td>1987.0</td>\n",
       "      <td>18.0</td>\n",
       "      <td>W</td>\n",
       "      <td>White</td>\n",
       "      <td>Speeding</td>\n",
       "      <td>...</td>\n",
       "      <td>False</td>\n",
       "      <td>NaN</td>\n",
       "      <td>NaN</td>\n",
       "      <td>False</td>\n",
       "      <td>Citation</td>\n",
       "      <td>False</td>\n",
       "      <td>16-30 Min</td>\n",
       "      <td>False</td>\n",
       "      <td>False</td>\n",
       "      <td>Zone X4</td>\n",
       "    </tr>\n",
       "  </tbody>\n",
       "</table>\n",
       "<p>2 rows × 21 columns</p>\n",
       "</div>"
      ],
      "text/plain": [
       "         stop_datetime             id location_raw police_department  \\\n",
       "0  2005-01-02 01:55:00  RI-2005-00001      Zone K1               600   \n",
       "1  2005-01-02 20:30:00  RI-2005-00002      Zone X4               500   \n",
       "\n",
       "  driver_gender  driver_age_raw  driver_age driver_race_raw driver_race  \\\n",
       "0             M          1985.0        20.0               W       White   \n",
       "1             M          1987.0        18.0               W       White   \n",
       "\n",
       "  violation_raw  ... search_conducted  search_type_raw search_type  \\\n",
       "0      Speeding  ...            False              NaN         NaN   \n",
       "1      Speeding  ...            False              NaN         NaN   \n",
       "\n",
       "  contraband_found  stop_outcome is_arrested  stop_duration out_of_state  \\\n",
       "0            False      Citation       False       0-15 Min        False   \n",
       "1            False      Citation       False      16-30 Min        False   \n",
       "\n",
       "  drugs_related_stop  district  \n",
       "0              False   Zone K1  \n",
       "1              False   Zone X4  \n",
       "\n",
       "[2 rows x 21 columns]"
      ]
     },
     "execution_count": 16,
     "metadata": {},
     "output_type": "execute_result"
    }
   ],
   "source": [
    "male_and_speeding = ri[(ri[\"driver_gender\"] == \"M\") & (ri[\"violation\"] == \"Speeding\")]\n",
    "male_and_speeding.head(2)"
   ]
  },
  {
   "cell_type": "code",
   "execution_count": 18,
   "metadata": {},
   "outputs": [
    {
     "data": {
      "text/plain": [
       "Citation            95.324718\n",
       "Warning              3.900323\n",
       "Arrest Driver        0.529015\n",
       "Arrest Passenger     0.103251\n",
       "N/D                  0.090489\n",
       "No Action            0.052205\n",
       "Name: stop_outcome, dtype: float64"
      ]
     },
     "execution_count": 18,
     "metadata": {},
     "output_type": "execute_result"
    }
   ],
   "source": [
    "female_and_speeding[\"stop_outcome\"].value_counts(normalize=True) * 100"
   ]
  },
  {
   "cell_type": "code",
   "execution_count": 19,
   "metadata": {},
   "outputs": [
    {
     "data": {
      "text/plain": [
       "Citation            94.463619\n",
       "Warning              3.608564\n",
       "Arrest Driver        1.576658\n",
       "Arrest Passenger     0.126549\n",
       "N/D                  0.118332\n",
       "No Action            0.106279\n",
       "Name: stop_outcome, dtype: float64"
      ]
     },
     "execution_count": 19,
     "metadata": {},
     "output_type": "execute_result"
    }
   ],
   "source": [
    "male_and_speeding[\"stop_outcome\"].value_counts(normalize=True) * 100"
   ]
  },
  {
   "cell_type": "markdown",
   "metadata": {},
   "source": [
    "***"
   ]
  },
  {
   "cell_type": "markdown",
   "metadata": {},
   "source": [
    "## Calculating the search rate"
   ]
  },
  {
   "cell_type": "markdown",
   "metadata": {},
   "source": [
    "During a traffic stop, the police officer sometimes conducts a search of the vehicle. In this exercise, you'll calculate the percentage of all stops that result in a vehicle search, also known as the **search rate**."
   ]
  },
  {
   "cell_type": "markdown",
   "metadata": {},
   "source": [
    "**INSTRUCTIONS**\n",
    "\n",
    "*   Check the data type of ``search_conducted`` to confirm that it's a ``Boolean Series``.\n",
    "*   Calculate the search rate by counting the ``Series`` values and expressing them as proportions.\n",
    "*   Calculate the search rate by taking the mean of the ``Series``. (It should match the proportion of ``True`` values calculated above.)"
   ]
  },
  {
   "cell_type": "code",
   "execution_count": 20,
   "metadata": {},
   "outputs": [
    {
     "name": "stdout",
     "output_type": "stream",
     "text": [
      "bool\n"
     ]
    }
   ],
   "source": [
    "print(ri.search_conducted.dtype)"
   ]
  },
  {
   "cell_type": "code",
   "execution_count": 53,
   "metadata": {},
   "outputs": [],
   "source": [
    "# ri[\"search_conducted\"] = ri[\"search_conducted\"].astype(\"bool\")"
   ]
  },
  {
   "cell_type": "code",
   "execution_count": 21,
   "metadata": {},
   "outputs": [
    {
     "name": "stdout",
     "output_type": "stream",
     "text": [
      "bool\n"
     ]
    }
   ],
   "source": [
    "print(ri.search_conducted.dtype)"
   ]
  },
  {
   "cell_type": "code",
   "execution_count": 22,
   "metadata": {},
   "outputs": [
    {
     "data": {
      "text/plain": [
       "False    96.30408\n",
       "True      3.69592\n",
       "Name: search_conducted, dtype: float64"
      ]
     },
     "execution_count": 22,
     "metadata": {},
     "output_type": "execute_result"
    }
   ],
   "source": [
    "ri[\"search_conducted\"].value_counts(normalize=True) * 100"
   ]
  },
  {
   "cell_type": "code",
   "execution_count": 24,
   "metadata": {},
   "outputs": [
    {
     "data": {
      "text/plain": [
       "0.04"
      ]
     },
     "execution_count": 24,
     "metadata": {},
     "output_type": "execute_result"
    }
   ],
   "source": [
    "round(ri[\"search_conducted\"].mean(), 2)"
   ]
  },
  {
   "cell_type": "markdown",
   "metadata": {},
   "source": [
    "***"
   ]
  },
  {
   "cell_type": "markdown",
   "metadata": {},
   "source": [
    "## Comparing search rates by gender"
   ]
  },
  {
   "cell_type": "markdown",
   "metadata": {},
   "source": [
    "You'll compare the rates at which **female** and **male** drivers are searched during a traffic stop. Remember that the vehicle search rate across all stops is about **3.8%**.\n",
    "\n",
    "First, you'll filter the ``DataFrame`` by gender and calculate the search rate for each group separately. Then, you'll perform the same calculation for both genders at once using a ``.groupby()``."
   ]
  },
  {
   "cell_type": "markdown",
   "metadata": {},
   "source": [
    "**INSTRUCTIONS 1/3**\n",
    "\n",
    "*   Filter the ``DataFrame`` to only include **female** drivers, and then calculate the search rate by taking the mean of ``search_conducted``."
   ]
  },
  {
   "cell_type": "code",
   "execution_count": 26,
   "metadata": {},
   "outputs": [
    {
     "data": {
      "text/plain": [
       "0.02"
      ]
     },
     "execution_count": 26,
     "metadata": {},
     "output_type": "execute_result"
    }
   ],
   "source": [
    "round(ri[ri[\"driver_gender\"] == \"F\"][\"search_conducted\"].mean(), 2)"
   ]
  },
  {
   "cell_type": "markdown",
   "metadata": {},
   "source": [
    "**INSTRUCTIONS 2/3**\n",
    "\n",
    "*   Filter the ``DataFrame`` to only include **male** drivers, and then repeat the search rate calculation."
   ]
  },
  {
   "cell_type": "code",
   "execution_count": 28,
   "metadata": {},
   "outputs": [
    {
     "data": {
      "text/plain": [
       "0.04"
      ]
     },
     "execution_count": 28,
     "metadata": {},
     "output_type": "execute_result"
    }
   ],
   "source": [
    "round(ri[ri[\"driver_gender\"] == \"M\"][\"search_conducted\"].mean(), 2)"
   ]
  },
  {
   "cell_type": "markdown",
   "metadata": {},
   "source": [
    "**INSTRUCTIONS 3/3**\n",
    "\n",
    "*   Group by driver gender to calculate the search rate for both groups simultaneously. (It should match the previous results.)"
   ]
  },
  {
   "cell_type": "code",
   "execution_count": 29,
   "metadata": {},
   "outputs": [
    {
     "data": {
      "text/plain": [
       "driver_gender\n",
       "F    0.018751\n",
       "M    0.043792\n",
       "Name: search_conducted, dtype: float64"
      ]
     },
     "execution_count": 29,
     "metadata": {},
     "output_type": "execute_result"
    }
   ],
   "source": [
    "ri.groupby(\"driver_gender\")[\"search_conducted\"].mean()"
   ]
  },
  {
   "cell_type": "markdown",
   "metadata": {},
   "source": [
    "***"
   ]
  },
  {
   "cell_type": "markdown",
   "metadata": {},
   "source": [
    "## Adding a second factor to the analysis"
   ]
  },
  {
   "cell_type": "markdown",
   "metadata": {},
   "source": [
    "Even though the search rate for males is much higher than for females, it's possible that the difference is mostly due to a second factor.\n",
    "\n",
    "For example, you might hypothesize that the search rate varies by violation type, and the difference in search rate between males and females is because they tend to commit different violations.\n",
    "\n",
    "You can test this hypothesis by examining the search rate for each combination of gender and violation. If the hypothesis was true, you would find that males and females are searched at about the same rate for each violation. Find out below if that's the case!"
   ]
  },
  {
   "cell_type": "markdown",
   "metadata": {},
   "source": [
    "**INSTRUCTIONS 1/2**\n",
    "\n",
    "*   Use a ``.groupby()`` to calculate the search rate for each combination of gender and violation. Are males and females searched at about the same rate for each violation?"
   ]
  },
  {
   "cell_type": "code",
   "execution_count": 30,
   "metadata": {},
   "outputs": [
    {
     "data": {
      "text/plain": [
       "driver_gender  violation          \n",
       "F              Equipment              0.040245\n",
       "               Moving violation       0.038021\n",
       "               Other                  0.045898\n",
       "               Registration/plates    0.054700\n",
       "               Seat belt              0.017746\n",
       "               Speeding               0.007738\n",
       "M              Equipment              0.070916\n",
       "               Moving violation       0.059156\n",
       "               Other                  0.046120\n",
       "               Registration/plates    0.103589\n",
       "               Seat belt              0.031705\n",
       "               Speeding               0.026630\n",
       "Name: search_conducted, dtype: float64"
      ]
     },
     "execution_count": 30,
     "metadata": {},
     "output_type": "execute_result"
    }
   ],
   "source": [
    "ri.groupby([\"driver_gender\", \"violation\"])[\"search_conducted\"].mean()"
   ]
  },
  {
   "cell_type": "markdown",
   "metadata": {},
   "source": [
    "**INSTRUCTIONS 2/2**\n",
    "\n",
    "*   Reverse the ordering to group by violation before gender. The results may be easier to compare when presented this way."
   ]
  },
  {
   "cell_type": "code",
   "execution_count": 31,
   "metadata": {},
   "outputs": [
    {
     "data": {
      "text/plain": [
       "violation            driver_gender\n",
       "Equipment            F                0.040245\n",
       "                     M                0.070916\n",
       "Moving violation     F                0.038021\n",
       "                     M                0.059156\n",
       "Other                F                0.045898\n",
       "                     M                0.046120\n",
       "Registration/plates  F                0.054700\n",
       "                     M                0.103589\n",
       "Seat belt            F                0.017746\n",
       "                     M                0.031705\n",
       "Speeding             F                0.007738\n",
       "                     M                0.026630\n",
       "Name: search_conducted, dtype: float64"
      ]
     },
     "execution_count": 31,
     "metadata": {},
     "output_type": "execute_result"
    }
   ],
   "source": [
    "ri.groupby([\"violation\", \"driver_gender\"])[\"search_conducted\"].mean()"
   ]
  },
  {
   "cell_type": "markdown",
   "metadata": {},
   "source": [
    "***"
   ]
  },
  {
   "cell_type": "markdown",
   "metadata": {},
   "source": [
    "## Counting protective frisks"
   ]
  },
  {
   "cell_type": "markdown",
   "metadata": {},
   "source": [
    "During a vehicle search, the police officer may pat down the driver to check if they have a weapon. This is known as a ``\"protective frisk.\"``\n",
    "\n",
    "You'll first check to see how many times \"Protective Frisk\" was the only search type. Then, you'll use a string method to locate all instances in which the driver was frisked."
   ]
  },
  {
   "cell_type": "markdown",
   "metadata": {},
   "source": [
    "**INSTRUCTIONS**\n",
    "\n",
    "*   Count the ``search_type`` values to see how many times ``\"Protective Frisk\"`` was the only search type.\n",
    "*   Create a new column, frisk, that is ``True`` if ``search_type`` contains the string ``\"Protective Frisk\"`` and ``False`` otherwise.\n",
    "*   Check the data type of frisk to confirm that it's a ``Boolean Series``.\n",
    "*   Take the sum of frisk to count the total number of frisks."
   ]
  },
  {
   "cell_type": "code",
   "execution_count": 32,
   "metadata": {},
   "outputs": [
    {
     "data": {
      "text/plain": [
       "Index(['stop_datetime', 'id', 'location_raw', 'police_department',\n",
       "       'driver_gender', 'driver_age_raw', 'driver_age', 'driver_race_raw',\n",
       "       'driver_race', 'violation_raw', 'violation', 'search_conducted',\n",
       "       'search_type_raw', 'search_type', 'contraband_found', 'stop_outcome',\n",
       "       'is_arrested', 'stop_duration', 'out_of_state', 'drugs_related_stop',\n",
       "       'district'],\n",
       "      dtype='object')"
      ]
     },
     "execution_count": 32,
     "metadata": {},
     "output_type": "execute_result"
    }
   ],
   "source": [
    "ri.columns"
   ]
  },
  {
   "cell_type": "code",
   "execution_count": 33,
   "metadata": {},
   "outputs": [
    {
     "name": "stdout",
     "output_type": "stream",
     "text": [
      "<class 'pandas.core.frame.DataFrame'>\n",
      "RangeIndex: 480584 entries, 0 to 480583\n",
      "Data columns (total 21 columns):\n",
      " #   Column              Non-Null Count   Dtype  \n",
      "---  ------              --------------   -----  \n",
      " 0   stop_datetime       480584 non-null  object \n",
      " 1   id                  480584 non-null  object \n",
      " 2   location_raw        480584 non-null  object \n",
      " 3   police_department   480584 non-null  object \n",
      " 4   driver_gender       480584 non-null  object \n",
      " 5   driver_age_raw      480583 non-null  float64\n",
      " 6   driver_age          478946 non-null  float64\n",
      " 7   driver_race_raw     480584 non-null  object \n",
      " 8   driver_race         480584 non-null  object \n",
      " 9   violation_raw       480584 non-null  object \n",
      " 10  violation           480584 non-null  object \n",
      " 11  search_conducted    480584 non-null  bool   \n",
      " 12  search_type_raw     17762 non-null   object \n",
      " 13  search_type         17762 non-null   object \n",
      " 14  contraband_found    480584 non-null  bool   \n",
      " 15  stop_outcome        480584 non-null  object \n",
      " 16  is_arrested         480584 non-null  bool   \n",
      " 17  stop_duration       480584 non-null  object \n",
      " 18  out_of_state        479776 non-null  object \n",
      " 19  drugs_related_stop  480584 non-null  bool   \n",
      " 20  district            480584 non-null  object \n",
      "dtypes: bool(4), float64(2), object(15)\n",
      "memory usage: 64.2+ MB\n"
     ]
    }
   ],
   "source": [
    "ri.info()"
   ]
  },
  {
   "cell_type": "code",
   "execution_count": 34,
   "metadata": {},
   "outputs": [
    {
     "data": {
      "text/plain": [
       "Incident to Arrest                                          6998\n",
       "Probable Cause                                              4989\n",
       "Reasonable Suspicion                                        1141\n",
       "Inventory                                                   1101\n",
       "Protective Frisk                                             879\n",
       "Incident to Arrest,Inventory                                 649\n",
       "Incident to Arrest,Probable Cause                            552\n",
       "Probable Cause,Reasonable Suspicion                          334\n",
       "Probable Cause,Protective Frisk                              221\n",
       "Incident to Arrest,Protective Frisk                          158\n",
       "Incident to Arrest,Inventory,Probable Cause                  151\n",
       "Inventory,Probable Cause                                     132\n",
       "Protective Frisk,Reasonable Suspicion                         83\n",
       "Incident to Arrest,Inventory,Protective Frisk                 77\n",
       "Incident to Arrest,Probable Cause,Protective Frisk            74\n",
       "Inventory,Protective Frisk                                    52\n",
       "Incident to Arrest,Reasonable Suspicion                       49\n",
       "Incident to Arrest,Probable Cause,Reasonable Suspicion        31\n",
       "Probable Cause,Protective Frisk,Reasonable Suspicion          31\n",
       "Inventory,Reasonable Suspicion                                17\n",
       "Inventory,Probable Cause,Protective Frisk                     14\n",
       "Incident to Arrest,Inventory,Reasonable Suspicion             12\n",
       "Inventory,Probable Cause,Reasonable Suspicion                  8\n",
       "Incident to Arrest,Protective Frisk,Reasonable Suspicion       8\n",
       "Inventory,Protective Frisk,Reasonable Suspicion                1\n",
       "Name: search_type, dtype: int64"
      ]
     },
     "execution_count": 34,
     "metadata": {},
     "output_type": "execute_result"
    }
   ],
   "source": [
    "ri[\"search_type\"].value_counts()"
   ]
  },
  {
   "cell_type": "code",
   "execution_count": 35,
   "metadata": {},
   "outputs": [
    {
     "data": {
      "text/plain": [
       "879"
      ]
     },
     "execution_count": 35,
     "metadata": {},
     "output_type": "execute_result"
    }
   ],
   "source": [
    "sum(ri[\"search_type\"] == \"Protective Frisk\")"
   ]
  },
  {
   "cell_type": "code",
   "execution_count": 36,
   "metadata": {},
   "outputs": [],
   "source": [
    "ri[\"frisk\"] = ri[\"search_type\"].str.contains(\"Protective Frisk\", na=False)  # na=False returns boolean"
   ]
  },
  {
   "cell_type": "code",
   "execution_count": 37,
   "metadata": {},
   "outputs": [
    {
     "name": "stdout",
     "output_type": "stream",
     "text": [
      "<class 'pandas.core.frame.DataFrame'>\n",
      "RangeIndex: 480584 entries, 0 to 480583\n",
      "Data columns (total 22 columns):\n",
      " #   Column              Non-Null Count   Dtype  \n",
      "---  ------              --------------   -----  \n",
      " 0   stop_datetime       480584 non-null  object \n",
      " 1   id                  480584 non-null  object \n",
      " 2   location_raw        480584 non-null  object \n",
      " 3   police_department   480584 non-null  object \n",
      " 4   driver_gender       480584 non-null  object \n",
      " 5   driver_age_raw      480583 non-null  float64\n",
      " 6   driver_age          478946 non-null  float64\n",
      " 7   driver_race_raw     480584 non-null  object \n",
      " 8   driver_race         480584 non-null  object \n",
      " 9   violation_raw       480584 non-null  object \n",
      " 10  violation           480584 non-null  object \n",
      " 11  search_conducted    480584 non-null  bool   \n",
      " 12  search_type_raw     17762 non-null   object \n",
      " 13  search_type         17762 non-null   object \n",
      " 14  contraband_found    480584 non-null  bool   \n",
      " 15  stop_outcome        480584 non-null  object \n",
      " 16  is_arrested         480584 non-null  bool   \n",
      " 17  stop_duration       480584 non-null  object \n",
      " 18  out_of_state        479776 non-null  object \n",
      " 19  drugs_related_stop  480584 non-null  bool   \n",
      " 20  district            480584 non-null  object \n",
      " 21  frisk               480584 non-null  bool   \n",
      "dtypes: bool(5), float64(2), object(15)\n",
      "memory usage: 64.6+ MB\n"
     ]
    }
   ],
   "source": [
    "ri.info()"
   ]
  },
  {
   "cell_type": "code",
   "execution_count": 38,
   "metadata": {},
   "outputs": [
    {
     "data": {
      "text/plain": [
       "1598"
      ]
     },
     "execution_count": 38,
     "metadata": {},
     "output_type": "execute_result"
    }
   ],
   "source": [
    "sum(ri[\"frisk\"])"
   ]
  },
  {
   "cell_type": "markdown",
   "metadata": {},
   "source": [
    "***"
   ]
  },
  {
   "cell_type": "markdown",
   "metadata": {},
   "source": [
    "## Comparing frisk rates by gender"
   ]
  },
  {
   "cell_type": "markdown",
   "metadata": {},
   "source": [
    "You'll compare the rates at which female and male drivers are frisked during a search. Are males frisked more often than females, perhaps because police officers consider them to be higher risk?\n",
    "\n",
    "Before doing any calculations, it's important to filter the ``DataFrame`` to only include the relevant subset of data, namely stops in which a search was conducted."
   ]
  },
  {
   "cell_type": "markdown",
   "metadata": {},
   "source": [
    "**INSTRUCTIONS**\n",
    "\n",
    "*   Create a ``DataFrame``, searched, that only contains rows in which ``search_conducted`` is ``True``.\n",
    "*   Take the mean of the frisk column to find out what percentage of searches included a frisk.\n",
    "*   Calculate the frisk rate for each gender using a ``.groupby()``."
   ]
  },
  {
   "cell_type": "code",
   "execution_count": 39,
   "metadata": {},
   "outputs": [],
   "source": [
    "searched = ri[ri[\"search_conducted\"] == True]  # searched = pd.DataFrame(ri[ri[\"search_conducted\"] == True])"
   ]
  },
  {
   "cell_type": "code",
   "execution_count": 40,
   "metadata": {},
   "outputs": [
    {
     "data": {
      "text/html": [
       "<div>\n",
       "<style scoped>\n",
       "    .dataframe tbody tr th:only-of-type {\n",
       "        vertical-align: middle;\n",
       "    }\n",
       "\n",
       "    .dataframe tbody tr th {\n",
       "        vertical-align: top;\n",
       "    }\n",
       "\n",
       "    .dataframe thead th {\n",
       "        text-align: right;\n",
       "    }\n",
       "</style>\n",
       "<table border=\"1\" class=\"dataframe\">\n",
       "  <thead>\n",
       "    <tr style=\"text-align: right;\">\n",
       "      <th></th>\n",
       "      <th>stop_datetime</th>\n",
       "      <th>id</th>\n",
       "      <th>location_raw</th>\n",
       "      <th>police_department</th>\n",
       "      <th>driver_gender</th>\n",
       "      <th>driver_age_raw</th>\n",
       "      <th>driver_age</th>\n",
       "      <th>driver_race_raw</th>\n",
       "      <th>driver_race</th>\n",
       "      <th>violation_raw</th>\n",
       "      <th>...</th>\n",
       "      <th>search_type_raw</th>\n",
       "      <th>search_type</th>\n",
       "      <th>contraband_found</th>\n",
       "      <th>stop_outcome</th>\n",
       "      <th>is_arrested</th>\n",
       "      <th>stop_duration</th>\n",
       "      <th>out_of_state</th>\n",
       "      <th>drugs_related_stop</th>\n",
       "      <th>district</th>\n",
       "      <th>frisk</th>\n",
       "    </tr>\n",
       "  </thead>\n",
       "  <tbody>\n",
       "    <tr>\n",
       "      <th>8</th>\n",
       "      <td>2005-01-24 20:32:00</td>\n",
       "      <td>RI-2005-00010</td>\n",
       "      <td>Zone K1</td>\n",
       "      <td>600</td>\n",
       "      <td>M</td>\n",
       "      <td>1987.0</td>\n",
       "      <td>18.0</td>\n",
       "      <td>W</td>\n",
       "      <td>White</td>\n",
       "      <td>Speeding</td>\n",
       "      <td>...</td>\n",
       "      <td>Probable Cause</td>\n",
       "      <td>Probable Cause</td>\n",
       "      <td>True</td>\n",
       "      <td>Citation</td>\n",
       "      <td>False</td>\n",
       "      <td>0-15 Min</td>\n",
       "      <td>True</td>\n",
       "      <td>True</td>\n",
       "      <td>Zone K1</td>\n",
       "      <td>False</td>\n",
       "    </tr>\n",
       "    <tr>\n",
       "      <th>9</th>\n",
       "      <td>2005-02-09 03:05:00</td>\n",
       "      <td>RI-2005-00011</td>\n",
       "      <td>Zone X4</td>\n",
       "      <td>500</td>\n",
       "      <td>M</td>\n",
       "      <td>1976.0</td>\n",
       "      <td>29.0</td>\n",
       "      <td>W</td>\n",
       "      <td>White</td>\n",
       "      <td>Registration Violation</td>\n",
       "      <td>...</td>\n",
       "      <td>Probable Cause,Terry Frisk</td>\n",
       "      <td>Probable Cause,Protective Frisk</td>\n",
       "      <td>False</td>\n",
       "      <td>Citation</td>\n",
       "      <td>False</td>\n",
       "      <td>0-15 Min</td>\n",
       "      <td>False</td>\n",
       "      <td>False</td>\n",
       "      <td>Zone X4</td>\n",
       "      <td>True</td>\n",
       "    </tr>\n",
       "  </tbody>\n",
       "</table>\n",
       "<p>2 rows × 22 columns</p>\n",
       "</div>"
      ],
      "text/plain": [
       "         stop_datetime             id location_raw police_department  \\\n",
       "8  2005-01-24 20:32:00  RI-2005-00010      Zone K1               600   \n",
       "9  2005-02-09 03:05:00  RI-2005-00011      Zone X4               500   \n",
       "\n",
       "  driver_gender  driver_age_raw  driver_age driver_race_raw driver_race  \\\n",
       "8             M          1987.0        18.0               W       White   \n",
       "9             M          1976.0        29.0               W       White   \n",
       "\n",
       "            violation_raw  ...             search_type_raw  \\\n",
       "8                Speeding  ...              Probable Cause   \n",
       "9  Registration Violation  ...  Probable Cause,Terry Frisk   \n",
       "\n",
       "                       search_type contraband_found stop_outcome  is_arrested  \\\n",
       "8                   Probable Cause             True     Citation        False   \n",
       "9  Probable Cause,Protective Frisk            False     Citation        False   \n",
       "\n",
       "  stop_duration  out_of_state drugs_related_stop district  frisk  \n",
       "8      0-15 Min          True               True  Zone K1  False  \n",
       "9      0-15 Min         False              False  Zone X4   True  \n",
       "\n",
       "[2 rows x 22 columns]"
      ]
     },
     "execution_count": 40,
     "metadata": {},
     "output_type": "execute_result"
    }
   ],
   "source": [
    "searched.head(2)"
   ]
  },
  {
   "cell_type": "code",
   "execution_count": 41,
   "metadata": {},
   "outputs": [
    {
     "data": {
      "text/plain": [
       "pandas.core.frame.DataFrame"
      ]
     },
     "execution_count": 41,
     "metadata": {},
     "output_type": "execute_result"
    }
   ],
   "source": [
    "type(searched)"
   ]
  },
  {
   "cell_type": "code",
   "execution_count": 44,
   "metadata": {},
   "outputs": [
    {
     "data": {
      "text/plain": [
       "0.08996734601959239"
      ]
     },
     "execution_count": 44,
     "metadata": {},
     "output_type": "execute_result"
    }
   ],
   "source": [
    "ri[ri[\"search_conducted\"] == True][\"frisk\"].mean()"
   ]
  },
  {
   "cell_type": "code",
   "execution_count": 45,
   "metadata": {},
   "outputs": [
    {
     "data": {
      "text/plain": [
       "0.08996734601959239"
      ]
     },
     "execution_count": 45,
     "metadata": {},
     "output_type": "execute_result"
    }
   ],
   "source": [
    "searched[\"frisk\"].mean()"
   ]
  },
  {
   "cell_type": "code",
   "execution_count": 46,
   "metadata": {},
   "outputs": [
    {
     "data": {
      "text/plain": [
       "driver_gender\n",
       "F    0.066694\n",
       "M    0.093707\n",
       "Name: frisk, dtype: float64"
      ]
     },
     "execution_count": 46,
     "metadata": {},
     "output_type": "execute_result"
    }
   ],
   "source": [
    "searched.groupby([\"driver_gender\"])[\"frisk\"].mean()"
   ]
  },
  {
   "cell_type": "code",
   "execution_count": 47,
   "metadata": {},
   "outputs": [],
   "source": [
    "ri.to_csv(\"use_for_visual_data_explotary.csv\")"
   ]
  },
  {
   "cell_type": "code",
   "execution_count": null,
   "metadata": {},
   "outputs": [],
   "source": []
  }
 ],
 "metadata": {
  "kernelspec": {
   "display_name": "Python 3",
   "language": "python",
   "name": "python3"
  },
  "language_info": {
   "codemirror_mode": {
    "name": "ipython",
    "version": 3
   },
   "file_extension": ".py",
   "mimetype": "text/x-python",
   "name": "python",
   "nbconvert_exporter": "python",
   "pygments_lexer": "ipython3",
   "version": "3.8.5"
  }
 },
 "nbformat": 4,
 "nbformat_minor": 4
}

{
 "cells": [
  {
   "cell_type": "markdown",
   "id": "9e056dc6",
   "metadata": {},
   "source": [
    "#TASK: Use numpy to check how many rolls were greater than 2. For example if dice_rolls=[1,2,3] then the answer is 1.\n",
    "#NOTE: Many different ways to do this! Your final answer should be an integer.\n",
    "#MAKE SURE TO READ THE FULL INSTRUCTIONS ABOVE CAREFULLY, AS THE EVALUATION SCRIPT IS VERY STRICT."
   ]
  },
  {
   "cell_type": "code",
   "execution_count": 1,
   "id": "e21585c1",
   "metadata": {},
   "outputs": [],
   "source": [
    "import numpy as np\n",
    "dice_rolls = np.array([3, 1, 5, 2, 5, 1, 1, 5, 1, 4, 2, 1, 4, 5, 3, 4, 5, 2, 4, 2, 6, 6, 3, 6, 2, 3, 5, 6, 5])"
   ]
  },
  {
   "cell_type": "markdown",
   "id": "b70b7db2",
   "metadata": {},
   "source": [
    "#total_rolls_over_two = # This should be a single integer"
   ]
  },
  {
   "cell_type": "code",
   "execution_count": 3,
   "id": "20560ec7",
   "metadata": {},
   "outputs": [
    {
     "data": {
      "text/plain": [
       "19"
      ]
     },
     "execution_count": 3,
     "metadata": {},
     "output_type": "execute_result"
    }
   ],
   "source": [
    "total_rolls_over_two=len(dice_rolls[dice_rolls>2])\n",
    "total_rolls_over_two"
   ]
  },
  {
   "cell_type": "code",
   "execution_count": 4,
   "id": "ca2db6b0",
   "metadata": {},
   "outputs": [
    {
     "data": {
      "text/plain": [
       "19"
      ]
     },
     "execution_count": 4,
     "metadata": {},
     "output_type": "execute_result"
    }
   ],
   "source": [
    "total_rolls_over_two=(dice_rolls[dice_rolls>2]).size\n",
    "total_rolls_over_two"
   ]
  },
  {
   "cell_type": "code",
   "execution_count": 6,
   "id": "c4ac9726",
   "metadata": {},
   "outputs": [],
   "source": [
    "import pandas as pd"
   ]
  },
  {
   "cell_type": "code",
   "execution_count": 7,
   "id": "0d455f5b",
   "metadata": {},
   "outputs": [
    {
     "data": {
      "text/plain": [
       "19"
      ]
     },
     "execution_count": 7,
     "metadata": {},
     "output_type": "execute_result"
    }
   ],
   "source": [
    "total_rolls_over_two = pd.Series(dice_rolls)\n",
    "total_rolls_over_two[total_rolls_over_two > 2].count()"
   ]
  }
 ],
 "metadata": {
  "kernelspec": {
   "display_name": "Python 3",
   "language": "python",
   "name": "python3"
  },
  "language_info": {
   "codemirror_mode": {
    "name": "ipython",
    "version": 3
   },
   "file_extension": ".py",
   "mimetype": "text/x-python",
   "name": "python",
   "nbconvert_exporter": "python",
   "pygments_lexer": "ipython3",
   "version": "3.8.8"
  }
 },
 "nbformat": 4,
 "nbformat_minor": 5
}
